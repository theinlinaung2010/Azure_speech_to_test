{
 "cells": [
  {
   "cell_type": "code",
   "execution_count": 19,
   "metadata": {},
   "outputs": [],
   "source": [
    "import os\n",
    "import azure.cognitiveservices.speech as speechsdk"
   ]
  },
  {
   "attachments": {},
   "cell_type": "markdown",
   "metadata": {},
   "source": [
    "## Speech recognition from microphone\n",
    "\n",
    "Use the device's microphone to record audio and do speech recognition. Up to 30 seconds or silence is detected."
   ]
  },
  {
   "cell_type": "code",
   "execution_count": 3,
   "metadata": {},
   "outputs": [],
   "source": [
    "def recognize_from_microphone():\n",
    "    # This example requires environment variables named \"SPEECH_KEY\" and \"SPEECH_REGION\"\n",
    "    speech_config = speechsdk.SpeechConfig(subscription=os.environ.get('SPEECH_KEY'), region=os.environ.get('SPEECH_REGION'))\n",
    "    speech_config.speech_recognition_language=\"my-MM\"\n",
    "\n",
    "    audio_config = speechsdk.audio.AudioConfig(use_default_microphone=True)\n",
    "    speech_recognizer = speechsdk.SpeechRecognizer(speech_config=speech_config, audio_config=audio_config)\n",
    "\n",
    "    print(\"Speak into your microphone.\")\n",
    "    speech_recognition_result = speech_recognizer.recognize_once_async().get()\n",
    "\n",
    "    if speech_recognition_result.reason == speechsdk.ResultReason.RecognizedSpeech:\n",
    "        print(\"Recognized: {}\".format(speech_recognition_result.text))\n",
    "    elif speech_recognition_result.reason == speechsdk.ResultReason.NoMatch:\n",
    "        print(\"No speech could be recognized: {}\".format(speech_recognition_result.no_match_details))\n",
    "    elif speech_recognition_result.reason == speechsdk.ResultReason.Canceled:\n",
    "        cancellation_details = speech_recognition_result.cancellation_details\n",
    "        print(\"Speech Recognition canceled: {}\".format(cancellation_details.reason))\n",
    "        if cancellation_details.reason == speechsdk.CancellationReason.Error:\n",
    "            print(\"Error details: {}\".format(cancellation_details.error_details))\n",
    "            print(\"Did you set the speech resource key and region values?\")"
   ]
  },
  {
   "cell_type": "code",
   "execution_count": 9,
   "metadata": {},
   "outputs": [
    {
     "name": "stdout",
     "output_type": "stream",
     "text": [
      "Speak into your microphone.\n",
      "Recognized: အား လုံးပဲ မင်္ဂလာပါ တစ်ယောက် ပေး တဲ့ အတွက် ကျေးဇူးတင် ပါ တယ် နောက်မှ ပြန်တွေ့ကြမယ် ကျေးဇူးတင်ပါတယ်.\n"
     ]
    }
   ],
   "source": [
    "recognize_from_microphone()"
   ]
  },
  {
   "attachments": {},
   "cell_type": "markdown",
   "metadata": {},
   "source": [
    "## Speech recognition from audio file\n",
    "\n",
    "Below code use `recognize_once_async` so it only recognize up to 15 seconds of audio or until silence is detected."
   ]
  },
  {
   "cell_type": "code",
   "execution_count": 14,
   "metadata": {},
   "outputs": [],
   "source": [
    "def recognize_from_audio_async(fname):\n",
    "    # This example requires environment variables named \"SPEECH_KEY\" and \"SPEECH_REGION\"\n",
    "    speech_config = speechsdk.SpeechConfig(subscription=os.environ.get('SPEECH_KEY'), region=os.environ.get('SPEECH_REGION'))\n",
    "    speech_config.speech_recognition_language=\"my-MM\"\n",
    "\n",
    "    audio_config = speechsdk.audio.AudioConfig(filename=fname)\n",
    "    speech_recognizer = speechsdk.SpeechRecognizer(speech_config=speech_config, audio_config=audio_config)\n",
    "\n",
    "    print(\"Running speech recognition on audio file: {}\".format(fname))\n",
    "    speech_recognition_result = speech_recognizer.recognize_once_async().get()\n",
    "\n",
    "    if speech_recognition_result.reason == speechsdk.ResultReason.RecognizedSpeech:\n",
    "        print(\"Recognized: {}\".format(speech_recognition_result.text))\n",
    "    elif speech_recognition_result.reason == speechsdk.ResultReason.NoMatch:\n",
    "        print(\"No speech could be recognized: {}\".format(speech_recognition_result.no_match_details))\n",
    "    elif speech_recognition_result.reason == speechsdk.ResultReason.Canceled:\n",
    "        cancellation_details = speech_recognition_result.cancellation_details\n",
    "        print(\"Speech Recognition canceled: {}\".format(cancellation_details.reason))\n",
    "        if cancellation_details.reason == speechsdk.CancellationReason.Error:\n",
    "            print(\"Error details: {}\".format(cancellation_details.error_details))\n",
    "            print(\"Did you set the speech resource key and region values?\")"
   ]
  },
  {
   "cell_type": "code",
   "execution_count": 15,
   "metadata": {},
   "outputs": [
    {
     "name": "stdout",
     "output_type": "stream",
     "text": [
      "Running speech recognition on audio file: audio_test_5min.wav\n",
      "Recognized: အားလုံး မင်္ဂလာပါ will fight and အပတ်စဉ် ပုဂ္ဂိုလ် တင်ပြတာတွေ.\n"
     ]
    }
   ],
   "source": [
    "recognize_from_audio_async(\"audio_test_5min.wav\")"
   ]
  },
  {
   "attachments": {},
   "cell_type": "markdown",
   "metadata": {},
   "source": [
    "## Continuous recognition"
   ]
  },
  {
   "cell_type": "code",
   "execution_count": 20,
   "metadata": {},
   "outputs": [],
   "source": [
    "# Create an instance of a speech config with specified subscription key and service region.\n",
    "speech_config = speechsdk.SpeechConfig(subscription=os.environ.get('SPEECH_KEY'), region=os.environ.get('SPEECH_REGION'))\n",
    "speech_config.speech_recognition_language=\"my-MM\"\n",
    "\n",
    "# Create an audio configuration that points to an audio file.\n",
    "audio_filename = \"audio_test_5min.wav\"\n",
    "audio_input = speechsdk.AudioConfig(filename=audio_filename)\n",
    "\n",
    "# Create a recognizer with the given settings\n",
    "speech_recognizer = speechsdk.SpeechRecognizer(speech_config=speech_config, audio_config=audio_input)\n",
    "\n",
    "# Define callbacks for events\n",
    "def recognized_cb(evt):\n",
    "    print('Recognized: {}'.format(evt.result.text))\n",
    "\n",
    "def canceled_cb(evt):\n",
    "    print('CANCELED: Reason={}'.format(evt.reason))\n",
    "    if evt.reason == speechsdk.CancellationReason.Error:\n",
    "        print('CANCELED: ErrorDetails={}'.format(evt.error_details))\n",
    "\n",
    "def session_stopped_cb(evt):\n",
    "    print('Session stopped.')\n",
    "\n",
    "# Connect callbacks to events\n",
    "speech_recognizer.recognized.connect(recognized_cb)\n",
    "speech_recognizer.canceled.connect(canceled_cb)\n",
    "speech_recognizer.session_stopped.connect(session_stopped_cb)"
   ]
  },
  {
   "cell_type": "code",
   "execution_count": 21,
   "metadata": {},
   "outputs": [
    {
     "name": "stdout",
     "output_type": "stream",
     "text": [
      "Recognized: အားလုံး မင်္ဂလာပါ will fight and အပတ်စဉ် ပုဂ္ဂိုလ် တင်ပြတာတွေ.\n",
      "Recognized: ပြုလုပ်နေကြ ကြည့်တယ် လေ မျက်နှာ စကားဝိုင်း တစ်ချို့ ဆို ပါ တယ်.\n",
      "Recognized: ဒီ လေးမျက်နှာ စကားဝိုင်း ကြောင် က တော့ တော် တော် များ လည်း သိ ပြီး ဖြစ် လောက် မယ် ထင် တယ် ကျွန်တော် ပြန် ပြီး မိတ်ဆက် ရင်တော့ ဒီ လေးမျက်နှာ စကားဝိုင်း က ဒီ မတူညီတဲ့ အမြင်တွေ အယူအဆ တွေ ရပ်တည်ချက် တွေ ဒီ အပေါ် မှာ ကျွန်တော်တို့ အမ်း ပြန် နားထောင် ပြီး ဆွေးနွေး ကြ တဲ့ သတ္တဝါ တွေ ဖြစ်တယ် ဒါ လုပ် ယဉ်ကျေးမှု အခြေခံ တဲ့ စကားဝိုင်း ဖြစ်တယ်.\n",
      "Recognized: D.\n",
      "Recognized: အမ်း.\n",
      "Recognized: ကျွန်တော်တို့ မ တူညီ မှု တွေ ပေါ် ကနေ ပြီးတော့ ဘာတွေ ပို ကောင်း တဲ့ အဖြေ ရှာ နိုင် တယ် ပေါ့ နော် ဒီ အပေါ် မှာ ကျွန်တော် အဓိက ကြွယ် ပါ တယ် ဆို တော့ ဒီမှာ ဟို ကျွန်တော်တို့ speaker တွေ ကို အဓိက.\n",
      "Recognized: ဗဟိုပြု တဲ့ ပုံစံ မျိုး မ ဟုတ် ဘူး ဒီ မှာ ၁ ယောက် တဲ့ လူ တွေ အကုန် လုံး က ဟို ကိုယ် ကိုယ် သိ ထား တဲ့ ရွာ ကို ဝင်ရောက် ဆွေးနွေးဖို့ ဖိတ်ခေါ်တယ်.\n",
      "Recognized: အာ ဆွေးနွေး ချင်တယ် ဆိုရင် ကျွန်တော်တို့ လက်ထောင် ပြီး ဝင်ရောက် ဆွေးနွေး လို့ ရ တယ်.\n"
     ]
    }
   ],
   "source": [
    "# Start continuous recognition\n",
    "# This will run continuously until the end of audio file or until you stop it.\n",
    "\n",
    "speech_recognizer.start_continuous_recognition()"
   ]
  },
  {
   "cell_type": "code",
   "execution_count": 22,
   "metadata": {},
   "outputs": [
    {
     "name": "stdout",
     "output_type": "stream",
     "text": [
      "Recognized: ဆွေးနွေး တဲ့ အခါ မှာ တော့ အတတ်နိုင်ဆုံး တိုတို နဲ့ လို ရင် ဆွေးနွေး ပေး ဖို့ မေတ္တာရပ်ခံတယ် ဟို ပြော တဲ့ အခါ မှာ ဒီ ဒီ ကျွန်တော်တို့ ဆွေးနွေးမယ့် အကြောင်းအရာ နဲ့ သက်ဆိုင် တဲ့ ဟာ ကို ပဲ အဓိက ပြော.\n",
      "Session stopped.\n"
     ]
    }
   ],
   "source": [
    "# Run this to stop recognition\n",
    "speech_recognizer.stop_continuous_recognition()"
   ]
  }
 ],
 "metadata": {
  "kernelspec": {
   "display_name": "Python 3",
   "language": "python",
   "name": "python3"
  },
  "language_info": {
   "codemirror_mode": {
    "name": "ipython",
    "version": 3
   },
   "file_extension": ".py",
   "mimetype": "text/x-python",
   "name": "python",
   "nbconvert_exporter": "python",
   "pygments_lexer": "ipython3",
   "version": "3.10.9"
  },
  "orig_nbformat": 4,
  "vscode": {
   "interpreter": {
    "hash": "ab54b57f34b9f601057b3e1ef89bb54ab75a46cb55ed5f1af49ae26591a975ce"
   }
  }
 },
 "nbformat": 4,
 "nbformat_minor": 2
}
